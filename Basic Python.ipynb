{
 "cells": [
  {
   "cell_type": "code",
   "execution_count": 9,
   "id": "e0e62b02-d47c-4e3b-afc3-aff3548ba525",
   "metadata": {},
   "outputs": [
    {
     "data": {
      "text/plain": [
       "9"
      ]
     },
     "execution_count": 9,
     "metadata": {},
     "output_type": "execute_result"
    }
   ],
   "source": [
    "2 + 7"
   ]
  },
  {
   "cell_type": "code",
   "execution_count": 2,
   "id": "6e00962f-dbbe-4a74-9ae1-fa5a5728b685",
   "metadata": {},
   "outputs": [
    {
     "name": "stdout",
     "output_type": "stream",
     "text": [
      "14\n",
      "9\n"
     ]
    }
   ],
   "source": [
    "print(2 * 7)\n",
    "print(2 + 7)"
   ]
  },
  {
   "cell_type": "code",
   "execution_count": null,
   "id": "0a610e80-2fdb-417a-8b49-579be61cf331",
   "metadata": {},
   "outputs": [],
   "source": []
  },
  {
   "cell_type": "code",
   "execution_count": 3,
   "id": "ffdfed48-a821-493a-a792-bd864b630570",
   "metadata": {},
   "outputs": [
    {
     "name": "stdout",
     "output_type": "stream",
     "text": [
      "4 5\n"
     ]
    }
   ],
   "source": [
    "a = 4\n",
    "b = 5\n",
    "print(a,b)"
   ]
  },
  {
   "cell_type": "code",
   "execution_count": 1,
   "id": "400f25ef-037f-4ea3-9de0-e42d1b7c9988",
   "metadata": {},
   "outputs": [
    {
     "name": "stdout",
     "output_type": "stream",
     "text": [
      "7\n"
     ]
    }
   ],
   "source": [
    "a, b = 2, 7\n",
    "print(b)"
   ]
  },
  {
   "cell_type": "code",
   "execution_count": 5,
   "id": "c2bca903-7a94-4057-9884-394d5a5eba43",
   "metadata": {},
   "outputs": [
    {
     "name": "stdout",
     "output_type": "stream",
     "text": [
      "14\n"
     ]
    }
   ],
   "source": [
    "b = 2*7\n",
    "print(b)"
   ]
  },
  {
   "cell_type": "code",
   "execution_count": 6,
   "id": "8bf60e63-307d-4ba9-b054-b7e4df84c106",
   "metadata": {},
   "outputs": [
    {
     "name": "stdout",
     "output_type": "stream",
     "text": [
      "1700\n"
     ]
    }
   ],
   "source": [
    "rent = 1700\n",
    "print(rent)"
   ]
  },
  {
   "cell_type": "code",
   "execution_count": 7,
   "id": "29750243-4f08-485f-bc63-ff0e66f54861",
   "metadata": {},
   "outputs": [
    {
     "name": "stdout",
     "output_type": "stream",
     "text": [
      "3\n"
     ]
    }
   ],
   "source": [
    "a =3\n",
    "b = a\n",
    "print(b)"
   ]
  },
  {
   "cell_type": "code",
   "execution_count": 8,
   "id": "96f3d844-e128-46cf-8aa3-eadce8618aa8",
   "metadata": {},
   "outputs": [
    {
     "name": "stdout",
     "output_type": "stream",
     "text": [
      "36\n"
     ]
    }
   ],
   "source": [
    "height, length, width = 3, 6, 2\n",
    "volume = height * length * width\n",
    "print(volume)"
   ]
  },
  {
   "cell_type": "code",
   "execution_count": 9,
   "id": "fd96a2aa-2c01-4fb5-9a58-685c529c33cd",
   "metadata": {},
   "outputs": [
    {
     "name": "stdout",
     "output_type": "stream",
     "text": [
      "1.5\n"
     ]
    }
   ],
   "source": [
    "print(3/2)"
   ]
  },
  {
   "cell_type": "code",
   "execution_count": 11,
   "id": "a8833e15-b4b8-467f-94a4-2791d67ce388",
   "metadata": {},
   "outputs": [
    {
     "name": "stdout",
     "output_type": "stream",
     "text": [
      "<class 'float'>\n"
     ]
    }
   ],
   "source": [
    "print(type(1.5))"
   ]
  },
  {
   "cell_type": "code",
   "execution_count": 17,
   "id": "8715de69-49c0-4bbc-b138-e2d13548562f",
   "metadata": {},
   "outputs": [
    {
     "name": "stdout",
     "output_type": "stream",
     "text": [
      "happy birthday\n"
     ]
    }
   ],
   "source": [
    "print('happy birthday')"
   ]
  },
  {
   "cell_type": "code",
   "execution_count": 15,
   "id": "f47efd1c-6af7-4103-93fa-9e9099c2d213",
   "metadata": {},
   "outputs": [
    {
     "name": "stdout",
     "output_type": "stream",
     "text": [
      "the accuracy of VGG16 model in 150th iteration is: 67.98%\n"
     ]
    }
   ],
   "source": [
    "model = \"VGG16\"\n",
    "iteration = \"150\"\n",
    "accuracy = \"67.98\"\n",
    "print('the accuracy of ' + model + ' model in ' + iteration + 'th iteration is: ' + accuracy + '%')"
   ]
  },
  {
   "cell_type": "code",
   "execution_count": 16,
   "id": "b38750ea-bd7a-4c42-935a-2929ae4f6496",
   "metadata": {},
   "outputs": [
    {
     "name": "stdout",
     "output_type": "stream",
     "text": [
      "8\n"
     ]
    }
   ],
   "source": [
    "print(a+5)"
   ]
  },
  {
   "cell_type": "code",
   "execution_count": 6,
   "id": "1d9f030a-7a6c-4232-8f56-7ab3a318fcd9",
   "metadata": {},
   "outputs": [
    {
     "name": "stdout",
     "output_type": "stream",
     "text": [
      "['a', 'b', 'c', 'd', 'e', 'f', 'g']\n"
     ]
    }
   ],
   "source": [
    "letters = ['a', 'b', 'c', 'd']\n",
    "for letter in 'efg':\n",
    "    letters.append(letter)\n",
    "print(letters)"
   ]
  },
  {
   "cell_type": "code",
   "execution_count": 11,
   "id": "9ed5363b-977a-4cbc-98d9-4c7bc3ab825f",
   "metadata": {},
   "outputs": [
    {
     "name": "stdout",
     "output_type": "stream",
     "text": [
      "['e', 'a', 'b', 'c', 'd']\n"
     ]
    }
   ],
   "source": [
    "letters = ['a', 'b', 'c', 'd']\n",
    "letters.insert(0, 'e')\n",
    "print(letters)"
   ]
  },
  {
   "cell_type": "code",
   "execution_count": 12,
   "id": "bf6f776a-a823-43b7-979b-5edc7ff243d3",
   "metadata": {},
   "outputs": [
    {
     "name": "stdout",
     "output_type": "stream",
     "text": [
      "{1: 'One', 2: 'two', 3: 'three'}\n"
     ]
    }
   ],
   "source": [
    "number = {1:'One', 2:'two', 3:'three'}\n",
    "print(number)"
   ]
  },
  {
   "cell_type": "code",
   "execution_count": 1,
   "id": "c75202ea-e5ad-4511-8c18-15146da358ea",
   "metadata": {},
   "outputs": [
    {
     "name": "stdout",
     "output_type": "stream",
     "text": [
      "You may proceed\n"
     ]
    }
   ],
   "source": [
    "age = 18\n",
    "if age < 18:\n",
    "    print('You need to be above 18 to proceed')\n",
    "else:\n",
    "    print('You may proceed')"
   ]
  },
  {
   "cell_type": "code",
   "execution_count": 7,
   "id": "97384169-c419-49e2-8c99-5c72ccf93406",
   "metadata": {},
   "outputs": [
    {
     "name": "stdout",
     "output_type": "stream",
     "text": [
      "Your grade is A\n"
     ]
    }
   ],
   "source": [
    "score = 90\n",
    "if score > 100:\n",
    "    print('Incorrect Score')\n",
    "elif score >= 80:\n",
    "    print('Your grade is A')\n",
    "elif score >= 60:\n",
    "    print('Your grade is B')\n",
    "elif score >= 50:\n",
    "    print('Your grade is C')\n",
    "elif score >= 40:\n",
    "    print('Your grade is D')\n",
    "elif score >= 30:\n",
    "    print('Your grade is E')\n",
    "elif score >= 0:\n",
    "    print('Your grade is F')\n",
    "else:\n",
    "    print('Incorrect Score')"
   ]
  },
  {
   "cell_type": "code",
   "execution_count": 5,
   "id": "41e92204-e71d-4824-96a1-4f4706c2b814",
   "metadata": {},
   "outputs": [
    {
     "name": "stdout",
     "output_type": "stream",
     "text": [
      "My skills include:\n",
      "html\n",
      "css\n",
      "js\n",
      "python\n",
      "sql\n"
     ]
    }
   ],
   "source": [
    "languages = ['html', 'css', 'js', 'python', 'sql']\n",
    "print('My skills include:')\n",
    "for language in languages:\n",
    "    print(language)"
   ]
  },
  {
   "cell_type": "code",
   "execution_count": 6,
   "id": "71cd2c65-1585-4a2e-9db0-28c24e8badc8",
   "metadata": {},
   "outputs": [
    {
     "name": "stdout",
     "output_type": "stream",
     "text": [
      "9\n"
     ]
    }
   ],
   "source": [
    "def sum(a, b):\n",
    "    sum = a + b\n",
    "    return sum\n",
    "\n",
    "print(sum(5, 4))"
   ]
  },
  {
   "cell_type": "code",
   "execution_count": null,
   "id": "3b1dafca-1afb-4cc6-9e90-3cd4fc23b33a",
   "metadata": {},
   "outputs": [],
   "source": []
  }
 ],
 "metadata": {
  "kernelspec": {
   "display_name": "Python 3 (ipykernel)",
   "language": "python",
   "name": "python3"
  },
  "language_info": {
   "codemirror_mode": {
    "name": "ipython",
    "version": 3
   },
   "file_extension": ".py",
   "mimetype": "text/x-python",
   "name": "python",
   "nbconvert_exporter": "python",
   "pygments_lexer": "ipython3",
   "version": "3.11.4"
  }
 },
 "nbformat": 4,
 "nbformat_minor": 5
}
