{
 "cells": [
  {
   "cell_type": "code",
   "execution_count": 2,
   "id": "87b8cc40-4d32-4d3b-979d-ed73a4e149a9",
   "metadata": {},
   "outputs": [],
   "source": [
    "import pyttsx3"
   ]
  },
  {
   "cell_type": "code",
   "execution_count": 30,
   "id": "d89c2895-d7d0-4cb3-a817-0b4e4847ec80",
   "metadata": {},
   "outputs": [
    {
     "name": "stdout",
     "output_type": "stream",
     "text": [
      "What do you want to convert to speech i think you really gotta go\n"
     ]
    }
   ],
   "source": [
    "text_speech = pyttsx3.init()\n",
    "answer = input(\"What do you want to convert to speech\")\n",
    "text_speech.say(answer)\n",
    "text_speech.runAndWait()"
   ]
  },
  {
   "cell_type": "code",
   "execution_count": 12,
   "id": "b9d51e40-1ea9-4602-b6b1-204e8140c3c8",
   "metadata": {},
   "outputs": [],
   "source": [
    "text_speech.save_to_file('Hello world!', 'output.mp3')\n",
    "text_speech.runAndWait()"
   ]
  },
  {
   "cell_type": "code",
   "execution_count": 23,
   "id": "817876dc-ca97-4e53-a69c-155e6fc8f1d5",
   "metadata": {},
   "outputs": [
    {
     "name": "stdout",
     "output_type": "stream",
     "text": [
      "<Voice id=HKEY_LOCAL_MACHINE\\SOFTWARE\\Microsoft\\Speech\\Voices\\Tokens\\TTS_MS_EN-US_ZIRA_11.0\n",
      "          name=Microsoft Zira Desktop - English (United States)\n",
      "          languages=[]\n",
      "          gender=None\n",
      "          age=None>\n"
     ]
    }
   ],
   "source": [
    "voices = text_speech.getProperty('voices')\n",
    "print(voices[1])"
   ]
  },
  {
   "cell_type": "code",
   "execution_count": 46,
   "id": "4236a219-c79b-4bcb-aa68-456ba303fc39",
   "metadata": {},
   "outputs": [],
   "source": [
    "text_speech.setProperty('voice', voices[1].id)\n",
    "text_speech.setProperty('rate', 200)\n",
    "text_speech.say(answer)\n",
    "text_speech.runAndWait()"
   ]
  }
 ],
 "metadata": {
  "kernelspec": {
   "display_name": "Python 3 (ipykernel)",
   "language": "python",
   "name": "python3"
  },
  "language_info": {
   "codemirror_mode": {
    "name": "ipython",
    "version": 3
   },
   "file_extension": ".py",
   "mimetype": "text/x-python",
   "name": "python",
   "nbconvert_exporter": "python",
   "pygments_lexer": "ipython3",
   "version": "3.11.4"
  }
 },
 "nbformat": 4,
 "nbformat_minor": 5
}
